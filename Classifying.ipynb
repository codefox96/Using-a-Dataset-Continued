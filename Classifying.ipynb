{
  "nbformat": 4,
  "nbformat_minor": 0,
  "metadata": {
    "colab": {
      "name": "Classifying.ipynb",
      "provenance": []
    },
    "kernelspec": {
      "name": "python3",
      "display_name": "Python 3"
    }
  },
  "cells": [
    {
      "cell_type": "code",
      "metadata": {
        "id": "ZGyIzM_lEO7c",
        "colab_type": "code",
        "outputId": "4fe35c83-102f-47ee-bf8f-6c8285bc572c",
        "colab": {
          "base_uri": "https://localhost:8080/",
          "height": 375
        }
      },
      "source": [
        "from keras.datasets import mnist\n",
        "import matplotlib.pyplot as plt\n",
        "import numpy as np\n",
        "import random\n",
        "import matplotlib.pyplot as plt\n",
        "\n",
        "#Loads data\n",
        "(x_train, y_train), (x_test,y_test) = mnist.load_data()\n",
        "\n",
        "#Gives the locations of all zeros and ones\n",
        "#Note to self: \"Perfect zero\" = x_train[51,12:15,12:15]\n",
        "trainx_valid = []\n",
        "trainy_valid = []\n",
        "for x in range(0,10000):\n",
        "  valid = y_train[x]\n",
        "  if valid == 0:\n",
        "    trainx_valid.append(x)\n",
        "  if valid == 1:\n",
        "    trainy_valid.append(x)\n",
        "#print(trainx_valid)\n",
        "#print(trainy_valid)\n",
        "\n",
        "\n",
        "#Calculates the average number of pixels in the 3x3 grid for all pictures in trainx_valid(983.39)\n",
        "# count = 0\n",
        "# for x in x_train:\n",
        "#   if np.any(x) in trainx_valid:\n",
        "#     a = np.sum(x_train[x,12:15,12:15])\n",
        "#   if count == len(trainx_valid):\n",
        "#    print(a/1001)\n",
        "#   count += 1\n",
        "\n",
        "#Center 3x3 matrix of picture\n",
        "wow = sorted(trainx_valid + trainy_valid)\n",
        "\n",
        "count = 0\n",
        "def plot(x):\n",
        "  try:\n",
        "    if x in wow:\n",
        "      pix = np.sum(x_train[x,12:15,12:15])\n",
        "      if pix > 983.39:\n",
        "        plt.plot(count,pix,'g^')\n",
        "      else:\n",
        "        plt.plot(count,pix,'rs')\n",
        "  except ValueError: \n",
        "    pass\n",
        "\n",
        "while count < 500:\n",
        "  ran = random.choice(wow)\n",
        "  plot(ran)\n",
        "  count += 1\n",
        "print(\"Green Triangle = 1\")\n",
        "print(\"Red Square = 0\")\n",
        "print(\"Best Threshold: 985\")"
      ],
      "execution_count": 0,
      "outputs": [
        {
          "output_type": "stream",
          "text": [
            "Using TensorFlow backend.\n"
          ],
          "name": "stderr"
        },
        {
          "output_type": "stream",
          "text": [
            "Downloading data from https://s3.amazonaws.com/img-datasets/mnist.npz\n",
            "11493376/11490434 [==============================] - 0s 0us/step\n",
            "Green Triangle = 1\n",
            "Red Square = 0\n",
            "Best Threshold: 985\n"
          ],
          "name": "stdout"
        },
        {
          "output_type": "display_data",
          "data": {
            "image/png": "[encoded data removed]",
            "text/plain": [
              "<Figure size 432x288 with 1 Axes>"
            ]
          },
          "metadata": {
            "tags": []
          }
        }
      ]
    }
  ]
}